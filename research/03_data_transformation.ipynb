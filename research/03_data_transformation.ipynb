{
 "cells": [
  {
   "cell_type": "code",
   "execution_count": 1,
   "metadata": {},
   "outputs": [],
   "source": [
    "import os"
   ]
  },
  {
   "cell_type": "code",
   "execution_count": 2,
   "metadata": {},
   "outputs": [
    {
     "data": {
      "text/plain": [
       "'c:\\\\Users\\\\Emachines\\\\Documents\\\\GitHub\\\\Prediction-of-Mohs-Hardness\\\\research'"
      ]
     },
     "execution_count": 2,
     "metadata": {},
     "output_type": "execute_result"
    }
   ],
   "source": [
    "%pwd"
   ]
  },
  {
   "cell_type": "code",
   "execution_count": 3,
   "metadata": {},
   "outputs": [],
   "source": [
    "os.chdir('../')"
   ]
  },
  {
   "cell_type": "code",
   "execution_count": 4,
   "metadata": {},
   "outputs": [
    {
     "data": {
      "text/plain": [
       "'c:\\\\Users\\\\Emachines\\\\Documents\\\\GitHub\\\\Prediction-of-Mohs-Hardness'"
      ]
     },
     "execution_count": 4,
     "metadata": {},
     "output_type": "execute_result"
    }
   ],
   "source": [
    "%pwd"
   ]
  },
  {
   "cell_type": "code",
   "execution_count": 5,
   "metadata": {},
   "outputs": [],
   "source": [
    "from dataclasses import dataclass\n",
    "from pathlib import Path\n",
    "\n",
    "\n",
    "@dataclass(frozen=True)\n",
    "class DataTransformationConfig:\n",
    "    root_dir: Path\n",
    "    data_path: Path"
   ]
  },
  {
   "cell_type": "code",
   "execution_count": 6,
   "metadata": {},
   "outputs": [],
   "source": [
    "from mlProject.constants import *\n",
    "from mlProject.utils.common import read_yaml, create_directories"
   ]
  },
  {
   "cell_type": "code",
   "execution_count": 7,
   "metadata": {},
   "outputs": [],
   "source": [
    "class ConfigurationManager:\n",
    "    def __init__(\n",
    "        self,\n",
    "        config_filepath = CONFIG_FILE_PATH,\n",
    "        params_filepath = PARAMS_FILE_PATH,\n",
    "        schema_filepath = SCHEMA_FILE_PATH):\n",
    "\n",
    "        self.config = read_yaml(config_filepath)\n",
    "        self.params = read_yaml(params_filepath)\n",
    "        self.schema = read_yaml(schema_filepath)\n",
    "\n",
    "        create_directories([self.config.artifacts_root])\n",
    "\n",
    "    \n",
    "    def get_data_transformation_config(self) -> DataTransformationConfig:\n",
    "        config = self.config.data_transformation\n",
    "\n",
    "        create_directories([config.root_dir])\n",
    "\n",
    "        data_transformation_config = DataTransformationConfig(\n",
    "            root_dir=config.root_dir,\n",
    "            data_path=config.data_path\n",
    "        )\n",
    "\n",
    "        return data_transformation_config"
   ]
  },
  {
   "cell_type": "code",
   "execution_count": 8,
   "metadata": {},
   "outputs": [],
   "source": [
    "from mlProject import logger\n",
    "\n",
    "from mlProject.components.data_cleaning import (FeatureEngineering,\n",
    "                                                FixOutliers,\n",
    "                                                DataPreprocessing)"
   ]
  },
  {
   "cell_type": "code",
   "execution_count": 9,
   "metadata": {},
   "outputs": [],
   "source": [
    "import pandas as pd\n",
    "\n",
    "from sklearn.model_selection import train_test_split\n",
    "from sklearn.pipeline import Pipeline"
   ]
  },
  {
   "cell_type": "code",
   "execution_count": 10,
   "metadata": {},
   "outputs": [],
   "source": [
    "class DataTransformation:\n",
    "    def __init__(self, config: DataTransformationConfig):\n",
    "        self.config = config\n",
    "\n",
    "    def data_transformation_pipeline(self):\n",
    "        \"\"\"Create a pipeline for data transformation\n",
    "\n",
    "        Args:\n",
    "            config (DataTransformationConfig): Data transformation configuration\n",
    "        Returns:\n",
    "            pipeline: Pipeline for data transformation\n",
    "        \"\"\"\n",
    "        \n",
    "        try:\n",
    "            pipeline = Pipeline([\n",
    "                (\"Feature Engineering\", FeatureEngineering()),\n",
    "                (\"Fix Outliers\", FixOutliers()),\n",
    "                (\"Data Preprocessing\", DataPreprocessing()),\n",
    "            ])\n",
    "\n",
    "            return pipeline\n",
    "        except Exception as e:\n",
    "            logger.error(f\"Data transformation failed with the following error: {e}\")\n",
    "            raise e\n",
    "\n",
    "    def transform_split_data(self):\n",
    "        \"\"\"Transform and split data into train and test sets\n",
    "        \n",
    "        Args:\n",
    "            config (DataTransformationConfig): Data transformation configuration\n",
    "        Returns:\n",
    "            None\n",
    "        \"\"\"\n",
    "\n",
    "        data = pd.read_csv(self.config.data_path)\n",
    "        pipeline = self.data_transformation_pipeline()\n",
    "\n",
    "        processed_data = pipeline.fit_transform(data)\n",
    "        \n",
    "        # Split data into train and test sets\n",
    "        train, test = train_test_split(processed_data, test_size=0.2, random_state=42)\n",
    "\n",
    "        train.to_csv(os.path.join(self.config.root_dir, \"train.csv\"), index=False)\n",
    "        test.to_csv(os.path.join(self.config.root_dir, \"test.csv\"), index=False)\n",
    "\n",
    "        logger.info(\"Pipeline transformation and data splitting completed successfully\")\n",
    "\n",
    "        logger.info(train.shape)\n",
    "        logger.info(test.shape)\n",
    "\n",
    "        print(train.shape)\n",
    "        print(test.shape)\n",
    "\n",
    "        \n"
   ]
  },
  {
   "cell_type": "code",
   "execution_count": 14,
   "metadata": {},
   "outputs": [
    {
     "name": "stdout",
     "output_type": "stream",
     "text": [
      "[2023-12-01 01:01:12,800: INFO: common: yaml file: config\\config.yaml loaded successfully]\n",
      "[2023-12-01 01:01:12,805: INFO: common: yaml file: params.yaml loaded successfully]\n",
      "[2023-12-01 01:01:12,815: INFO: common: yaml file: schema.yaml loaded successfully]\n",
      "[2023-12-01 01:01:12,841: INFO: common: created directory at: artifacts]\n",
      "[2023-12-01 01:01:12,847: INFO: common: created directory at: artifacts/data_transformation]\n",
      "[2023-12-01 01:01:12,969: INFO: data_cleaning: Feature engineering completed successfully]\n",
      "[2023-12-01 01:01:13,003: INFO: data_cleaning: allelectrons_Total outliers are values < -121.0 or > 320.0]\n",
      "[2023-12-01 01:01:13,034: INFO: data_cleaning: atomicweight_ionenergy_Ratio outliers are values < -6.2820975950694535 or > 12.620787022963274]\n",
      "[2023-12-01 01:01:13,061: INFO: data_cleaning: normalized_density outliers are values < -0.1617694136215771 or > 0.3980561817681934]\n",
      "[2023-12-01 01:01:13,096: INFO: data_cleaning: el_neg_chi_R_vdw_Ratio outliers are values < 0.6513176821408269 or > 2.4307940750591133]\n",
      "[2023-12-01 01:01:13,154: INFO: data_cleaning: electrons_per_atomicweight outliers are values < 0.3118250475907237 or > 0.6314896367393831]\n",
      "[2023-12-01 01:01:13,179: INFO: data_cleaning: specific_electron_count outliers are values < -6.89727698156033 or > 13.794117634165577]\n",
      "[2023-12-01 01:01:13,197: INFO: data_cleaning: Outliers fixed successfully]\n",
      "[2023-12-01 01:01:13,248: INFO: data_cleaning: Data preprocessing completed successfully]\n",
      "[2023-12-01 01:01:16,739: INFO: 2089262673: Pipeline transformation and data splitting completed successfully]\n",
      "[2023-12-01 01:01:16,752: INFO: 2089262673: (8069, 17)]\n",
      "[2023-12-01 01:01:16,760: INFO: 2089262673: (2018, 17)]\n",
      "(8069, 17)\n",
      "(2018, 17)\n"
     ]
    }
   ],
   "source": [
    "try:\n",
    "    config = ConfigurationManager()\n",
    "    data_transformation_config = config.get_data_transformation_config()\n",
    "    data_transformation = DataTransformation(config=data_transformation_config)\n",
    "    data_transformation.transform_split_data()\n",
    "except Exception as e:\n",
    "    logger.error(f\"Failed to transform and split data with the following error: {e}\")\n",
    "    raise e"
   ]
  },
  {
   "cell_type": "code",
   "execution_count": null,
   "metadata": {},
   "outputs": [],
   "source": []
  }
 ],
 "metadata": {
  "kernelspec": {
   "display_name": "venv",
   "language": "python",
   "name": "python3"
  },
  "language_info": {
   "codemirror_mode": {
    "name": "ipython",
    "version": 3
   },
   "file_extension": ".py",
   "mimetype": "text/x-python",
   "name": "python",
   "nbconvert_exporter": "python",
   "pygments_lexer": "ipython3",
   "version": "3.9.5"
  },
  "orig_nbformat": 4
 },
 "nbformat": 4,
 "nbformat_minor": 2
}
